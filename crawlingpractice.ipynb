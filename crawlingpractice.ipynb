#자동화 테스트를 위해 셀레니움을 불러옵니다
from selenium import webdriver
from selenium.webdriver.chrome.options import Options
from selenium.webdriver.common.action_chains import ActionChains as AC
from selenium.webdriver.common.by import By
from selenium.common.exceptions import WebDriverException
from curses.ascii import isdigit
from time import sleep
import pandas as pd
import xlsxwriter
import numpy
import os

#현재 저장되는 장소 표시 (not needed)
os.getcwd()

#크롬 웹 드라이버의 경로를 설정합니다
# chromeOptions = Options()
# chromeOptions.add_argument("--kiosk")
driver = webdriver.Chrome('C:/Users/heuser/Downloads/Chromedriver_win32/chromedriver.exe')

#화면을 최대로 만들기 (그래야 Rhythm Curation에서 좌우 레이블이 잘보임)
driver.maximize_window()

# 크롬을 통해 Rhythm Curation에 접속합니다.
driver.get('https://rhythm.gracenote.com/curation/login')

#아이디와 비밀번호를 입력합니다. (0.5초씩 기다리기)
sleep(0.5)
driver.find_element(by=By.XPATH, value='//*[@id="auth-panel"]/div[2]/form/div[1]/div[1]/input').send_keys('wonpyo.hong@lge.com')
sleep(0.5)
driver.find_element(by=By.XPATH, value='//*[@id="auth-panel"]/div[2]/form/div[2]/div[1]/input').send_keys('aue8ssfv')

#로그인 버튼을 클릭합니다.
sleep(0.5)
driver.find_element(by=By.XPATH, value='//*[@id="auth-panel"]/div[2]/form/div[3]').click()

#Create New 버튼을 클릭합니다.
sleep(10)
driver.find_element(by=By.XPATH, value='//*[@id="my-stations"]/div[1]/div[1]/div/div/div[1]/button').click()

#모든 level 1 toggle 버튼의 이름을 저장하고 클릭합니다.
sleep(0.5)
lists_level_1 = driver.find_elements(by=By.XPATH, value="//li[contains(@class, 'level-1')]")

#모든 level 1 이름을 저장합니다
names_level_1 = []

#All Genre 빼고 Level-1를 모두 클릭하여 Level-2를 오픈합니다.
for item_level_1 in lists_level_1:
    sleep(0.2)
    item_level_1_toggle_button = item_level_1.find_element(by=By.CLASS_NAME, value='toggle-icon').click()
    item_level_1_name = item_level_1.find_element(by=By.CLASS_NAME, value='node-name')
    names_level_1.append(item_level_1_name.text)

#모든 level 1 이름과 개수를 출력합니다.
print(len(names_level_1))
print(names_level_1)

#Level-3를 오픈할 수 있는 모든 Level-2를 선택합니다.
lists_level_2 = driver.find_elements(by=By.XPATH, value="//li[contains(@class, 'level-2')]")

#모든 level 1 이름을 저장합니다
names_level_2 = []

#선택한 버튼을 오픈합니다.
for item_level_2 in lists_level_2:
    sleep(0.1)
    item_level_2_name = item_level_2.find_element(by=By.CLASS_NAME, value='node-name')
    names_level_2.append(item_level_2_name.text)
    try:
        item_level_2_toggle_button = item_level_2.find_element(by=By.CLASS_NAME, value='toggle-icon').click()
    except WebDriverException:
        print(item_level_2_name.text, " has no toggle button")

#모든 level 2 이름과 개수를 출력합니다.
print(len(names_level_2))
print(names_level_2)

#Level-3 elements들을 선택합니다.
lists_level_3 = driver.find_elements(by=By.XPATH, value="//li[contains(@class, 'level-3')]")
#선택한 Level-3 버튼이 몇 개 있는지 출력합니다.
print('level 3 종류 수 : ', len(lists_level_3))

#Level-3를 하나씩 모두 클릭한 후 리스트가 나오면 그 리스트를 export하여 로컬에 저장합니다.
count = 0
flag = True
for item_level_3 in lists_level_3:
    
    final_track_list = []
    #체크 하기
    sleep(0.2)
    item_level_3.find_element(by=By.CLASS_NAME, value='selected-icon').click()
    
    #곡 정보 로딩되는 동안 기다렸다가 table 긁어오기
    sleep(10)
    theTable = driver.find_element(by=By.CLASS_NAME, value='data-table')

    #스크롤 while문
    while True:
        #테이블에 있는 곡 정보를 저장해보기
        cells_from_theTable = theTable.find_elements(by=By.XPATH, value="//div[contains(@class, 'fixedDataTableRowLayout_main')]")
        print('곡 정보 수 : ', len(cells_from_theTable))
        for cell_from_theTable in cells_from_theTable:
            sleep(0.1)
            name_cell_from_theTable = cell_from_theTable.find_element(by=By.CLASS_NAME, value='public_fixedDataTableCell_cellContent')
            print(count)
            if count == 0 & flag:
                final_track_list.append(cell_from_theTable.text.splitlines())
                print(final_track_list[count])
                flag = False
                count = count + 1
            elif (name_cell_from_theTable.text).isdigit():
                if count <= int(name_cell_from_theTable.text):
                    final_track_list.append(cell_from_theTable.text.splitlines())
                    print(final_track_list[count])
                    count = count + 1

        #스크롤 찾기
        scrollVertical = driver.find_element(by=By.XPATH, value="//div[contains(@class, 'ScrollbarLayout_faceVertical')]")
        action = AC(driver)

        #스크롤 처음 status 확인하기
        sleep(0.1)
        startIndex = scrollVertical.get_attribute('style').find('translate3d')
        tempTruncStr = scrollVertical.get_attribute('style')[startIndex:]
        tempTruncStr = tempTruncStr[tempTruncStr.find('px')+4:]
        tempTruncStr = tempTruncStr[0:tempTruncStr.find('px')]
        startPx = float(tempTruncStr)
        print("startPx = ", startPx)

        #스크롤하기
        sleep(0.5)
        action.click_and_hold(scrollVertical).move_by_offset(0,1).perform()
        action.reset_actions()

        #스크롤 더 내려갔는지 확인하기
        sleep(0.1)
        startIndex = scrollVertical.get_attribute('style').find('translate3d')
        tempTruncStr = scrollVertical.get_attribute('style')[startIndex:]
        tempTruncStr = tempTruncStr[tempTruncStr.find('px')+4:]
        tempTruncStr = tempTruncStr[0:tempTruncStr.find('px')]
        endPx = float(tempTruncStr)
        print("endPx = ", endPx)

        if startPx == endPx: break

    #체크 한거 끄기
    sleep(0.5)
    item_level_3.find_element(by=By.CLASS_NAME, value='selected-icon').click()

    #추출한 데이터 엑셀로 변환
    sleep(0.5)
    df = pd.DataFrame(final_track_list)
    item_level_3_name = item_level_3.find_element(by=By.CLASS_NAME, value='node-name')
    filepath = 'Data_' + item_level_3_name.text + '.xlsx'
    df.to_excel(filepath, index=False)
